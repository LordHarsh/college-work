{
 "cells": [
  {
   "cell_type": "code",
   "execution_count": 2,
   "metadata": {},
   "outputs": [],
   "source": [
    "import numpy as np"
   ]
  },
  {
   "cell_type": "markdown",
   "metadata": {},
   "source": [
    "#### 1) Consider the following NumPy array\n",
    "import numpy\n",
    "\n",
    "Y = numpy.array([ [3,6,9,12], [15,18,21,24], [27,30,33,36], [39,42,45,48], \n",
    "[51,54,57,60] ])\n",
    "\n",
    "i) Return the array of elements in the third column (from all rows).\n",
    "\n",
    "ii) Return a sub-array comprising of odd rows and even columns of the \n",
    "above array\n",
    "\n",
    "iii) Build a new array from the above array swapping first and last, \n",
    "second and third columns\n",
    "\n",
    "iv) Swap rows and columns in reverse order\n"
   ]
  },
  {
   "cell_type": "code",
   "execution_count": 3,
   "metadata": {},
   "outputs": [
    {
     "data": {
      "text/plain": [
       "array([[ 3,  6,  9, 12],\n",
       "       [15, 18, 21, 24],\n",
       "       [27, 30, 33, 36],\n",
       "       [39, 42, 45, 48],\n",
       "       [51, 54, 57, 60]])"
      ]
     },
     "execution_count": 3,
     "metadata": {},
     "output_type": "execute_result"
    }
   ],
   "source": [
    "Y = np.array([ [3,6,9,12], [15,18,21,24], [27,30,33,36], [39,42,45,48], [51,54,57,60] ])\n",
    "Y"
   ]
  },
  {
   "cell_type": "code",
   "execution_count": 4,
   "metadata": {},
   "outputs": [
    {
     "data": {
      "text/plain": [
       "array([ 9, 21, 33, 45, 57])"
      ]
     },
     "execution_count": 4,
     "metadata": {},
     "output_type": "execute_result"
    }
   ],
   "source": [
    "Y[:, 2]"
   ]
  },
  {
   "cell_type": "code",
   "execution_count": 5,
   "metadata": {},
   "outputs": [
    {
     "data": {
      "text/plain": [
       "array([[15, 21],\n",
       "       [39, 45]])"
      ]
     },
     "execution_count": 5,
     "metadata": {},
     "output_type": "execute_result"
    }
   ],
   "source": [
    "newArr = Y[1::2, 0::2]\n",
    "newArr"
   ]
  },
  {
   "cell_type": "code",
   "execution_count": 6,
   "metadata": {},
   "outputs": [
    {
     "data": {
      "text/plain": [
       "array([[12,  9,  6,  3],\n",
       "       [24, 21, 18, 15],\n",
       "       [36, 33, 30, 27],\n",
       "       [48, 45, 42, 39],\n",
       "       [60, 57, 54, 51]])"
      ]
     },
     "execution_count": 6,
     "metadata": {},
     "output_type": "execute_result"
    }
   ],
   "source": [
    "newArr = np.array([Y[:,-1], Y[:,2], Y[:,1], Y[:,0]]).T\n",
    "newArr"
   ]
  },
  {
   "cell_type": "code",
   "execution_count": 8,
   "metadata": {},
   "outputs": [
    {
     "name": "stdout",
     "output_type": "stream",
     "text": [
      "[[60 57 54 51]\n",
      " [48 45 42 39]\n",
      " [36 33 30 27]\n",
      " [24 21 18 15]\n",
      " [12  9  6  3]]\n"
     ]
    }
   ],
   "source": [
    "# Swap rows and columns in reverse order\n",
    "\n",
    "newArr = Y[::-1, ::-1]\n",
    "print(newArr)"
   ]
  },
  {
   "cell_type": "markdown",
   "metadata": {},
   "source": [
    "#### 2) Get all items between 7 and 20 from b.\n",
    "\n",
    "Input:\n",
    "\n",
    "b = np.array([13, 6, 11, 19, 10, 3, 27])\n",
    "\n",
    "Desired Output:\n",
    "\n",
    "(array([13,11,19,10]),)"
   ]
  },
  {
   "cell_type": "code",
   "execution_count": 21,
   "metadata": {},
   "outputs": [
    {
     "data": {
      "text/plain": [
       "array([13, 11, 19, 10])"
      ]
     },
     "execution_count": 21,
     "metadata": {},
     "output_type": "execute_result"
    }
   ],
   "source": [
    "b = np.array([13, 6, 11, 19, 10, 3, 27])\n",
    "b[(b>=7) & (b<=20)]"
   ]
  },
  {
   "cell_type": "markdown",
   "metadata": {},
   "source": [
    "#### 3) Identify the index of 6th repetition of 5 in an array\n",
    "\n",
    "x = np.array([5, 2, 5, 5, 3, 4, 3, 5, 5, 2, 5, 5, 2])"
   ]
  },
  {
   "cell_type": "code",
   "execution_count": 22,
   "metadata": {},
   "outputs": [
    {
     "name": "stdout",
     "output_type": "stream",
     "text": [
      "10\n"
     ]
    }
   ],
   "source": [
    "x = np.array([5, 2, 5, 5, 3, 4, 3, 5, 5, 2, 5, 5, 2])\n",
    "\n",
    "count = 0\n",
    "for i, num in enumerate(x):\n",
    "    if num == 5:\n",
    "        count += 1\n",
    "        if count == 6:\n",
    "            print(i)\n",
    "            break"
   ]
  }
 ],
 "metadata": {
  "kernelspec": {
   "display_name": "Python 3",
   "language": "python",
   "name": "python3"
  },
  "language_info": {
   "codemirror_mode": {
    "name": "ipython",
    "version": 3
   },
   "file_extension": ".py",
   "mimetype": "text/x-python",
   "name": "python",
   "nbconvert_exporter": "python",
   "pygments_lexer": "ipython3",
   "version": "3.11.3"
  },
  "orig_nbformat": 4
 },
 "nbformat": 4,
 "nbformat_minor": 2
}

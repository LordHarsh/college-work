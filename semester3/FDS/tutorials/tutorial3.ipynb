{
 "cells": [
  {
   "cell_type": "markdown",
   "metadata": {},
   "source": [
    "### T3: Using Numpy implement Linear algebra and Random package"
   ]
  },
  {
   "cell_type": "code",
   "execution_count": 2,
   "metadata": {},
   "outputs": [],
   "source": [
    "import numpy as np"
   ]
  },
  {
   "cell_type": "markdown",
   "metadata": {},
   "source": [
    "#### i) Build a NumPy program to compute the eigenvalues and eigenvectors of a given square array.\n",
    "\n",
    "            A = [[ 4         -1]\n",
    "                    [2          0]]\n",
    "\n",
    "#### ii) Construct a program to create a 6x6 array with random values and find the minimum and maximum values.\n",
    "\n",
    "#### iii) Build a 2x3 array comprising of 8 normally distributed random numbers with mean 12 and standard deviation 10."
   ]
  },
  {
   "cell_type": "code",
   "execution_count": 3,
   "metadata": {},
   "outputs": [],
   "source": [
    "A = [[ 4, -1], [2, 0]]"
   ]
  },
  {
   "cell_type": "code",
   "execution_count": 10,
   "metadata": {},
   "outputs": [
    {
     "name": "stdout",
     "output_type": "stream",
     "text": [
      "Eigen value = [3.41421356 0.58578644]\n",
      "Eigen vector = [[0.86285621 0.28108464]\n",
      " [0.50544947 0.95968298]]\n"
     ]
    }
   ],
   "source": [
    "u, v = np.linalg.eig(A)\n",
    "print(\"Eigen value = \" + str(u))\n",
    "print(\"Eigen vector = \" + str(v))"
   ]
  },
  {
   "cell_type": "code",
   "execution_count": 23,
   "metadata": {},
   "outputs": [
    {
     "name": "stdout",
     "output_type": "stream",
     "text": [
      "Array:\n",
      "[[72 98 41 73 32 27]\n",
      " [93 40 99 53 44 28]\n",
      " [14  5  7 84  8 90]\n",
      " [25 23 45 14 11 30]\n",
      " [88 28 49 67 74 31]\n",
      " [36 50 93 99 75 23]]\n",
      "Max value = 99\n",
      "Min value = 5\n"
     ]
    }
   ],
   "source": [
    "A = np.random.randint(100, size=(6, 6))\n",
    "print(\"Array:\\n\" + str(A))\n",
    "print(f\"Max value = {np.max(A)}\")\n",
    "print(f\"Min value = {np.min(A)}\")"
   ]
  },
  {
   "cell_type": "code",
   "execution_count": 61,
   "metadata": {},
   "outputs": [
    {
     "data": {
      "text/plain": [
       "array([[23.77158541, 28.53185645, 16.64590184],\n",
       "       [ 0.86440398,  7.69831713,  6.11715682]])"
      ]
     },
     "execution_count": 61,
     "metadata": {},
     "output_type": "execute_result"
    }
   ],
   "source": [
    "A = np.random.normal(10, 12, size=(2, 3))\n",
    "A"
   ]
  },
  {
   "cell_type": "code",
   "execution_count": 60,
   "metadata": {},
   "outputs": [
    {
     "data": {
      "text/plain": [
       "(array([  6.,  21.,  71., 111., 150., 128.,  78.,  24.,  10.,   1.]),\n",
       " array([-26.29956752, -18.50847003, -10.71737254,  -2.92627505,\n",
       "          4.86482244,  12.65591993,  20.44701741,  28.2381149 ,\n",
       "         36.02921239,  43.82030988,  51.61140737]),\n",
       " <BarContainer object of 10 artists>)"
      ]
     },
     "execution_count": 60,
     "metadata": {},
     "output_type": "execute_result"
    },
    {
     "data": {
      "image/png": "[encoded data removed]",
      "text/plain": [
       "<Figure size 640x480 with 1 Axes>"
      ]
     },
     "metadata": {},
     "output_type": "display_data"
    }
   ],
   "source": [
    "import matplotlib.pyplot as plt\n",
    "plt.hist(A.reshape(-1))\n"
   ]
  },
  {
   "cell_type": "code",
   "execution_count": null,
   "metadata": {},
   "outputs": [],
   "source": []
  }
 ],
 "metadata": {
  "kernelspec": {
   "display_name": ".venv",
   "language": "python",
   "name": "python3"
  },
  "language_info": {
   "codemirror_mode": {
    "name": "ipython",
    "version": 3
   },
   "file_extension": ".py",
   "mimetype": "text/x-python",
   "name": "python",
   "nbconvert_exporter": "python",
   "pygments_lexer": "ipython3",
   "version": "3.11.3"
  },
  "orig_nbformat": 4
 },
 "nbformat": 4,
 "nbformat_minor": 2
}

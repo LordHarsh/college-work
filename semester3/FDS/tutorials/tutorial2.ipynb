{
 "cells": [
  {
   "cell_type": "markdown",
   "metadata": {},
   "source": [
    "### T2: Using Numpy implement Array basic operations\n"
   ]
  },
  {
   "cell_type": "code",
   "execution_count": 21,
   "metadata": {},
   "outputs": [],
   "source": [
    "import numpy as np"
   ]
  },
  {
   "cell_type": "code",
   "execution_count": 22,
   "metadata": {},
   "outputs": [
    {
     "data": {
      "text/plain": [
       "array([[5.24, 3.28, 6.99],\n",
       "       [3.24, 5.82, 2.39],\n",
       "       [2.54, 3.39, 6.39]])"
      ]
     },
     "execution_count": 22,
     "metadata": {},
     "output_type": "execute_result"
    }
   ],
   "source": [
    "a = np.array([[5.24, 3.28, 6.99], [3.24, 5.82, 2.39], [2.54, 3.39, 6.39]])\n",
    "a"
   ]
  },
  {
   "cell_type": "markdown",
   "metadata": {},
   "source": [
    "#### 2) Consider the following NumPy array\n",
    "\n",
    "import numpy as np\n",
    "\n",
    "a = np.array([[5.24, 3.28, 6.99], [3.24, 5.82, 2.39], [2.54, 3.39, 6.39]])\n"
   ]
  },
  {
   "cell_type": "markdown",
   "metadata": {},
   "source": [
    "i) Identify the sum of all elements, sum of each column and sum of each row of the array a\n",
    "\n",
    "_Given array:_\n",
    "\n",
    "[[5.24 3.28 6.99]\n",
    "<br>\n",
    " [3.24 5.82 2.39]\n",
    "<br>\n",
    " [2.54 3.39 6.39]]\n",
    "<br>\n",
    "\n",
    "*Sum - elements:*\n",
    "<br>\n",
    "39.28\n",
    "<br>\n",
    "\n",
    "*Sum - column:*\n",
    "<br>\n",
    "[11.02 12.49 15.77]\n",
    "<br>\n",
    "\n",
    "*Sum - row:*\n",
    "<br>\n",
    "[15.51 11.45 12.32]\n"
   ]
  },
  {
   "cell_type": "code",
   "execution_count": 23,
   "metadata": {},
   "outputs": [
    {
     "name": "stdout",
     "output_type": "stream",
     "text": [
      "Sum of elements = 39.28\n",
      "Sum of columns = [11.02 12.49 15.77]\n",
      "Sum of rows = [15.51 11.45 12.32]\n"
     ]
    }
   ],
   "source": [
    "print(\"Sum of elements = \" + str(np.sum(a)))\n",
    "print(\"Sum of columns = \" + str(np.sum(a, axis=0)))\n",
    "print(\"Sum of rows = \" + str(np.sum(a, axis=1)))"
   ]
  },
  {
   "cell_type": "markdown",
   "metadata": {},
   "source": [
    "(ii) Substitute all numbers in the above array which is equal, less and greater to a given number\n",
    "\n",
    "[[5.24 3.28 6.99]\n",
    "<br>\n",
    "[3.24 5.82 2.39]\n",
    "<br>\n",
    "[2.54 3.39 6.39]]\n",
    "<br>\n",
    "\n",
    "Substitute elements of the above array which are equal to 5.32 with 15.32\n",
    "<br>\n",
    "[[5.24 3.28 6.99]\n",
    "<br>\n",
    "[3.24 5.82 2.39]\n",
    "<br>\n",
    "[2.54 3.39 6.39]]\n",
    "<br>\n",
    "\n",
    "Substitute elements of the above array which are less than 5.32 with 15.32\n",
    "<br>\n",
    "[[15.32 15.32 6.99]\n",
    "<br>\n",
    "[15.32 5.82 15.32]\n",
    "<br>\n",
    "[15.32 15.32 6.39]]\n",
    "<br>\n",
    "\n",
    "Substitute elements of the above array which are greater than 5.32 with 15.32\n",
    "<br>\n",
    "[[ 5.24 3.28 15.32]\n",
    "<br>\n",
    "[ 3.24 15.32 2.39]\n",
    "<br>\n",
    "[ 2.54 3.39 15.32]]"
   ]
  },
  {
   "cell_type": "code",
   "execution_count": 27,
   "metadata": {},
   "outputs": [
    {
     "data": {
      "text/plain": [
       "array([[5.24, 3.28, 6.99],\n",
       "       [3.24, 5.82, 2.39],\n",
       "       [2.54, 3.39, 6.39]])"
      ]
     },
     "execution_count": 27,
     "metadata": {},
     "output_type": "execute_result"
    }
   ],
   "source": [
    "a"
   ]
  },
  {
   "cell_type": "code",
   "execution_count": 36,
   "metadata": {},
   "outputs": [
    {
     "name": "stdout",
     "output_type": "stream",
     "text": [
      "Substitute elements of the above array which are equal to 5.32 with 15.32:\n",
      "[[5.24 3.28 6.99]\n",
      " [3.24 5.82 2.39]\n",
      " [2.54 3.39 6.39]]\n",
      "Substitute elements of the above array which are lower than 5.32 with 15.32:\n",
      "[[15.32 15.32  6.99]\n",
      " [15.32  5.82 15.32]\n",
      " [15.32 15.32  6.39]]\n",
      "Substitute elements of the above array which are greater than 5.32 with 15.32:\n",
      "[[ 5.24  3.28 15.32]\n",
      " [ 3.24 15.32  2.39]\n",
      " [ 2.54  3.39 15.32]]\n"
     ]
    }
   ],
   "source": [
    "n = 5.32\n",
    "sub = 15.32\n",
    "equal_func = np.vectorize(lambda x: sub if x == n else x)\n",
    "lower_func = np.vectorize(lambda x: sub if x < n else x)\n",
    "greater_func = np.vectorize(lambda x: sub if x > n else x)\n",
    "\n",
    "#apply function to array\n",
    "result = equal_func(a)\n",
    "print(f\"Substitute elements of the above array which are equal to {n} with {sub}:\\n\" + str(result))\n",
    "result = lower_func(a)\n",
    "print(f\"Substitute elements of the above array which are lower than {n} with {sub}:\\n\" + str(result))\n",
    "result = greater_func(a)\n",
    "print(f\"Substitute elements of the above array which are greater than {n} with {sub}:\\n\" + str(result))"
   ]
  },
  {
   "cell_type": "markdown",
   "metadata": {},
   "source": [
    "iii) Sort row and column in ascending order\n",
    "<br>\n",
    "Given array:\n",
    "<br>\n",
    "[[5.24 3.28 6.99]\n",
    "<br>\n",
    "[3.24 5.82 2.39]\n",
    "<br>\n",
    "[2.54 3.39 6.39]]\n",
    "\n",
    "Sort the above array by row:\n",
    "<br>\n",
    "[[3.28 5.24 6.99]\n",
    "<br>\n",
    "[2.39 3.24 5.82]\n",
    "<br>\n",
    "[2.54 3.39 6.39]]\n",
    "\n",
    "Sort the above array by column:\n",
    "<br>\n",
    "[[2.54 3.28 2.39]\n",
    "<br>\n",
    "[3.24 3.39 6.39]\n",
    "<br>\n",
    "[5.24 5.82 6.99]]"
   ]
  },
  {
   "cell_type": "code",
   "execution_count": 40,
   "metadata": {},
   "outputs": [
    {
     "name": "stdout",
     "output_type": "stream",
     "text": [
      "Sorting array by row:\n",
      "[[3.28 5.24 6.99]\n",
      " [2.39 3.24 5.82]\n",
      " [2.54 3.39 6.39]]\n",
      "Sorting array by column:\n",
      "[[2.54 3.28 2.39]\n",
      " [3.24 3.39 6.39]\n",
      " [5.24 5.82 6.99]]\n"
     ]
    }
   ],
   "source": [
    "print(\"Sorting array by row:\\n\" + str(np.sort(a, axis=1)))\n",
    "print(\"Sorting array by column:\\n\" + str(np.sort(a, axis=0)))"
   ]
  },
  {
   "cell_type": "markdown",
   "metadata": {},
   "source": [
    "(iv) Split the above array into two arrays along the second axis\n",
    "<br>\n",
    "Original array:\n",
    "<br>\n",
    "[[ 0 1 2 3]\n",
    "<br>\n",
    "[ 4 5 6 7]\n",
    "<br>\n",
    "[ 8 9 10 11]\n",
    "<br>\n",
    "[12 13 14 15]]\n",
    "\n",
    "After splitting horizontally:\n",
    "<br>\n",
    "[array([[ 0, 1, 2],\n",
    "<br>\n",
    " [ 4, 5, 6],\n",
    "<br>\n",
    " [ 8, 9, 10],\n",
    "<br>\n",
    " [12, 13, 14]]), array([[ 3],\n",
    "<br>\n",
    " [ 7],\n",
    "<br>\n",
    " [11],\n",
    "<br>\n",
    " [15]]), array([], shape=(4, 0), dtype=int64)]"
   ]
  },
  {
   "cell_type": "code",
   "execution_count": 57,
   "metadata": {},
   "outputs": [
    {
     "name": "stdout",
     "output_type": "stream",
     "text": [
      "[array([[ 0,  1,  2],\n",
      "       [ 4,  5,  6],\n",
      "       [ 8,  9, 10],\n",
      "       [12, 13, 14]]), array([[ 3],\n",
      "       [ 7],\n",
      "       [11],\n",
      "       [15]])]\n"
     ]
    }
   ],
   "source": [
    "arr = np.arange(16).reshape(4, 4)\n",
    "print(np.hsplit(arr, [3]))\n"
   ]
  },
  {
   "cell_type": "code",
   "execution_count": 66,
   "metadata": {},
   "outputs": [
    {
     "data": {
      "text/plain": [
       "array([2.-2.j, 2.+3.j, 3.+5.j, 4.-3.j, 4.-1.j])"
      ]
     },
     "execution_count": 66,
     "metadata": {},
     "output_type": "execute_result"
    }
   ],
   "source": [
    "arr = np.array([(2+3j), (4-1j), (2-2j), (4-3j), (3+5j)])\n",
    "np.sort_complex(arr)"
   ]
  },
  {
   "cell_type": "markdown",
   "metadata": {},
   "source": [
    "#### 3) Construct a program to sort the array on height by assuming an structured array from given set of name, height, class and their data types and . \n",
    "\n",
    "Before sorting:\n",
    "<br>[('John', 6, 52.5 ) ('Naught', 6, 48.5 ) ('Prince', 3, 41.1 ) ('Paul', 4, 43.11)]\n",
    "\n",
    "After sorting:\n",
    "<br>[('Prince', 3, 41.1 ) ('Paul', 4, 43.11) ('Naught', 6, 48.5 ) ('John', 6, 52.5 )]"
   ]
  },
  {
   "cell_type": "code",
   "execution_count": 93,
   "metadata": {},
   "outputs": [
    {
     "data": {
      "text/plain": [
       "array([(b'Prince', 3, 41.1 ), (b'Paul', 4, 43.11), (b'Naught', 6, 48.5 ),\n",
       "       (b'John', 6, 52.5 )],\n",
       "      dtype=[('name', 'S10'), ('class', '<i4'), ('height', '<f8')])"
      ]
     },
     "execution_count": 93,
     "metadata": {},
     "output_type": "execute_result"
    }
   ],
   "source": [
    "dtype = [('name', 'S10'), ('class', 'int'), ('height', 'float')]\n",
    "arr = np.array([('John', 6, 52.5 ), ('Naught', 6, 48.5 ), ('Prince', 3, 41.1 ), ('Paul', 4, 43.11)], dtype = [('name', 'S10'), ('class', 'int'), ('height', 'float')])\n",
    "np.sort(arr, order=['height'])"
   ]
  }
 ],
 "metadata": {
  "kernelspec": {
   "display_name": ".venv",
   "language": "python",
   "name": "python3"
  },
  "language_info": {
   "codemirror_mode": {
    "name": "ipython",
    "version": 3
   },
   "file_extension": ".py",
   "mimetype": "text/x-python",
   "name": "python",
   "nbconvert_exporter": "python",
   "pygments_lexer": "ipython3",
   "version": "3.11.3"
  },
  "orig_nbformat": 4
 },
 "nbformat": 4,
 "nbformat_minor": 2
}
